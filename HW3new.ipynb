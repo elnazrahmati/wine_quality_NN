{
 "cells": [
  {
   "cell_type": "markdown",
   "metadata": {},
   "source": [
    "# <center>nueral-network design for wine-quality dataset</center>\n",
    "## <center>implemented with keras and torch</center>\n",
    "\n"
   ]
  },
  {
   "cell_type": "code",
   "execution_count": 2,
   "metadata": {},
   "outputs": [],
   "source": [
    "import pandas as pd\n",
    "import numpy as np\n",
    "import matplotlib.pyplot as plt\n",
    "import statistics\n",
    "import random\n",
    "import math\n",
    "import keras\n",
    "from keras.models import Sequential\n",
    "from keras.layers import Dense\n",
    "from keras.layers import Activation\n",
    "from keras.regularizers import l1\n",
    "from keras.utils import np_utils\n",
    "from sklearn.preprocessing import LabelEncoder\n",
    "from sklearn.model_selection import train_test_split \n",
    "from sklearn.utils import resample\n",
    "from sklearn.utils import shuffle\n",
    "from sklearn.metrics import confusion_matrix\n",
    "from sklearn.metrics import precision_recall_fscore_support\n",
    "import torch"
   ]
  },
  {
   "cell_type": "markdown",
   "metadata": {},
   "source": [
    "# <center dir=\"rtl\">از ۲ کتابخانه kerasو torch  جهت یادگیری بیشتر استفاده شده است . </center>\n",
    "\n",
    "\n",
    "# <div dir=\"rtl\">1.keras:</div>\n",
    "<div dir=\"rtl\">\n",
    "ابتدا لازم است که dataset مذکور را بررسی کنیم. به این منظور تعداد داده موجود از هر یک از کلاس ها را بررسی می کنیم. لازم به ذکر است که به دلیل خالی بودن تعدادی از فیلد های dataset این فیلد ها با عدد 0 پر شده اند. همچنین پیش از آغاز پردازش واژه white با عدد 0 و واژه red با عدد 1 جایگزین شده است.\n",
    "</div>"
   ]
  },
  {
   "cell_type": "code",
   "execution_count": 5,
   "metadata": {},
   "outputs": [
    {
     "name": "stdout",
     "output_type": "stream",
     "text": [
      "class 3 :  30.0 , 0.46175157765122365 % of data\n",
      "class 4 :  216.0 , 3.3246113590888102 % of data\n",
      "class 5 :  2138.0 , 32.907495767277204 % of data\n",
      "class 6 :  2836.0 , 43.650915807295675 % of data\n",
      "class 7 :  1079.0 , 16.60766507618901 % of data\n",
      "class 8 :  193.0 , 2.9706018162228722 % of data\n",
      "class 9 :  5.0 , 0.07695859627520395 % of data\n"
     ]
    },
    {
     "data": {
      "image/png": "[encoded data removed]",
      "text/plain": [
       "<Figure size 1296x720 with 1 Axes>"
      ]
     },
     "metadata": {
      "needs_background": "light"
     },
     "output_type": "display_data"
    }
   ],
   "source": [
    "dataframe = pd.read_csv(\"wine-quality.csv\", sep = ',')\n",
    "dataframe.fillna(0, inplace = True)\n",
    "\n",
    "plt.figure(figsize=(18, 10))\n",
    "plt.scatter(dataframe.quality,range(len(dataframe)))\n",
    "stat = np.zeros((7,1))\n",
    "for i in range(7):\n",
    "    stat[i] = len(dataframe[dataframe.quality == i+3])\n",
    "    print('class', i+3, ': ', stat[i][0], ',', stat[i][0]*100/len(dataframe), '% of data')"
   ]
  },
  {
   "cell_type": "markdown",
   "metadata": {},
   "source": [
    "<div dir=\"rtl\">\n",
    "    با توجه به نتایج فوق می توان گفت که 95 درصد داده ها در کلاس های 5و 6و 7 قرار دارند و از طرفی داده های مربوط به این کلاس ها imbalanced هستند. با کاهش تعداد کلاس ها به سه کلاس می توان دقت مدل را افزایش داد و از شدت مشکلات مذکور کاهید ولی به دلیل حفظ صورت مسئله از این کار امتناع کرده ایم. برای حل مشکل imbalanced بودن از روش oversampleing استفاده می کنیم. باید افزود که oversampleing روی داده های مربوط به کلاس های 3و 4و 8و 9 باعث افزایش کاذب accuracy روی trainset می شود.\n",
    "</div>"
   ]
  },
  {
   "cell_type": "markdown",
   "metadata": {},
   "source": [
    "<div dir=\"rtl\">\n",
    "پیش از اعمال oversampleing ویژگی ها را نرمال سازی کرده و lable ها را به one hot vector تبدیل می کنیم. همچنین داده های مربوط به test و validation را جدا می نماییم.\n",
    "</div>"
   ]
  },
  {
   "cell_type": "code",
   "execution_count": 6,
   "metadata": {},
   "outputs": [],
   "source": [
    "dataset = dataframe.values\n",
    "dataset=shuffle(dataset,random_state=45)\n",
    "X = dataset[:,:12].astype(float)\n",
    "Y = dataset[:,12].astype(int)\n",
    "###################################################################\n",
    "#feature-normalization using mean and std\n",
    "n = len(X)\n",
    "X_norm = np.zeros((n, 12))\n",
    "temp = X.T\n",
    "for k in range(0, 12):\n",
    "    new_list = [float(i) for i in list(temp[k])]\n",
    "    mean = (statistics.mean(new_list))\n",
    "    std = (statistics.pstdev(new_list))\n",
    "    for i in range(0, n):\n",
    "        X_norm[i][k] = (X[i][k] - mean)/std\n",
    "###################################################################\n",
    "# converting integer lables to one-hot vectors\n",
    "encoder = LabelEncoder()\n",
    "encoder.fit(Y)\n",
    "encoded_Y = encoder.transform(Y)\n",
    "dummy_y = np_utils.to_categorical(encoded_Y)\n",
    "###################################################################\n",
    "#spliting data into 60% train, 28% validation, 12% test\n",
    "X_train, X_temp, y_train, y_temp = train_test_split( X_norm, dummy_y, test_size = 0.4, random_state = 55) \n",
    "X_valid, X_test, y_valid, y_test = train_test_split( X_temp, y_temp, test_size = 0.3, random_state = 65) \n",
    "###################################################################\n",
    "#oversampleing procedure on train set\n",
    "data_train = np.concatenate((X_train, y_train), axis=1)\n",
    "#extracting classes 5,6,7\n",
    "data_3=data_train[data_train[:,12]==1]\n",
    "data_4=data_train[data_train[:,13]==1]\n",
    "data_5=data_train[data_train[:,14]==1]\n",
    "data_6=data_train[data_train[:,15]==1]\n",
    "data_7=data_train[data_train[:,16]==1]\n",
    "data_8=data_train[data_train[:,17]==1]\n",
    "data_9=data_train[data_train[:,18]==1]\n",
    "#resampleing classes 5 and 7 to make them as much as class 6\n",
    "data_3 = resample(data_3, \n",
    "            replace=True,     # sample with replacement\n",
    "            n_samples=data_6[:,0].size-data_3[:,0].size,    # to match majority class\n",
    "            random_state=12)\n",
    "data_4 = resample(data_4, \n",
    "            replace=True,     # sample with replacement\n",
    "            n_samples=data_6[:,0].size-data_4[:,0].size,    # to match majority class\n",
    "            random_state=13)\n",
    "data_5 = resample(data_5, \n",
    "            replace=True,     # sample with replacement\n",
    "            n_samples=data_6[:,0].size-data_5[:,0].size,    # to match majority class\n",
    "            random_state=14)\n",
    "data_7 = resample(data_7, \n",
    "            replace=True,     # sample with replacement\n",
    "            n_samples=data_6[:,0].size-data_7[:,0].size,    # to match majority class\n",
    "            random_state=15)\n",
    "data_8 = resample(data_8, \n",
    "            replace=True,     # sample with replacement\n",
    "            n_samples=data_6[:,0].size-data_8[:,0].size,    # to match majority class\n",
    "            random_state=16)\n",
    "data_9 = resample(data_9, \n",
    "            replace=True,     # sample with replacement\n",
    "            n_samples=data_6[:,0].size-data_9[:,0].size,    # to match majority class\n",
    "            random_state=17)\n",
    "#appending resampled data to the train data\n",
    "data_train=np.append(data_train,data_3,axis=0)\n",
    "data_train=np.append(data_train,data_4,axis=0)\n",
    "data_train=np.append(data_train,data_5,axis=0)\n",
    "data_train=np.append(data_train,data_7,axis=0)\n",
    "data_train=np.append(data_train,data_8,axis=0)\n",
    "data_train=np.append(data_train,data_9,axis=0)\n",
    "#shuffleing to aviod sorted data\n",
    "data_train=shuffle(data_train,random_state=45)\n",
    "X_train = data_train[:,:12]\n",
    "y_train = data_train[:,12:]"
   ]
  },
  {
   "cell_type": "markdown",
   "metadata": {},
   "source": [
    "<div dir=\"rtl\">\n",
    "مدلی دارای دو hidden layer که هر لایه دارای 100 نود باشد تعریف می کنیم. به این طریق شبکه overfit می شود. سپس با استفاده از regularization مدل را به مدل just right تبدیل می کنیم.  \n",
    "    لازم به ذکر است که ابتدا با مدل مذکور ولی 20 نود در هر لایه شروع کرده ایم و پس از چندین بار تست و افزایش نود ها به شبکه فوق الذکر رسیده ایم. ضرایب منتظم سازی نیز پس از تست چندین مقدار رندوم در بازه 0.001 تا 0.01 انتخاب شده اند.\n",
    "</div>"
   ]
  },
  {
   "cell_type": "code",
   "execution_count": 7,
   "metadata": {},
   "outputs": [],
   "source": [
    "reg_model = Sequential()\n",
    "reg_model.add(Dense(20, input_dim=12, activity_regularizer=l1(0.005)))\n",
    "reg_model.add(Activation('relu'))\n",
    "reg_model.add(Dense(100, activity_regularizer=l1(0.006)))\n",
    "reg_model.add(Activation('relu'))\n",
    "reg_model.add(Dense(100, activity_regularizer=l1(0.004)))\n",
    "reg_model.add(Activation('relu'))\n",
    "reg_model.add(Dense(7, activity_regularizer=l1(0.002)))\n",
    "reg_model.add(Activation('softmax'))"
   ]
  },
  {
   "cell_type": "markdown",
   "metadata": {},
   "source": [
    "<div dir=\"rtl\">\n",
    "با استفاده از loss functionِ=categorical-entropy و optimizerِ=Adam شبکه را compile می کنیم.\n",
    "</div>"
   ]
  },
  {
   "cell_type": "code",
   "execution_count": 8,
   "metadata": {},
   "outputs": [],
   "source": [
    "reg_model.compile(loss='categorical_crossentropy',\n",
    "                  optimizer=keras.optimizers.Adam(learning_rate=0.001),\n",
    "                  metrics=['accuracy'])"
   ]
  },
  {
   "cell_type": "markdown",
   "metadata": {},
   "source": [
    "<div dir=\"rtl\">\n",
    "مدل را با 150 train، epoch می کنیم.\n",
    "</div>"
   ]
  },
  {
   "cell_type": "code",
   "execution_count": 9,
   "metadata": {},
   "outputs": [
    {
     "name": "stdout",
     "output_type": "stream",
     "text": [
      "Train on 11795 samples, validate on 1819 samples\n",
      "Epoch 1/150\n",
      "11795/11795 [==============================] - 4s 314us/step - loss: 2.2250 - accuracy: 0.4426 - val_loss: 2.0731 - val_accuracy: 0.2062\n",
      "Epoch 2/150\n",
      "11795/11795 [==============================] - 2s 204us/step - loss: 1.5707 - accuracy: 0.5462 - val_loss: 1.9384 - val_accuracy: 0.2496\n",
      "Epoch 3/150\n",
      "11795/11795 [==============================] - 2s 193us/step - loss: 1.4469 - accuracy: 0.5861 - val_loss: 1.8688 - val_accuracy: 0.3079\n",
      "Epoch 4/150\n",
      "11795/11795 [==============================] - 2s 204us/step - loss: 1.3791 - accuracy: 0.6059 - val_loss: 1.8302 - val_accuracy: 0.3183\n",
      "Epoch 5/150\n",
      "11795/11795 [==============================] - 2s 201us/step - loss: 1.3366 - accuracy: 0.6146 - val_loss: 1.8122 - val_accuracy: 0.3293\n",
      "Epoch 6/150\n",
      "11795/11795 [==============================] - 2s 202us/step - loss: 1.3005 - accuracy: 0.6289 - val_loss: 1.8344 - val_accuracy: 0.3051\n",
      "Epoch 7/150\n",
      "11795/11795 [==============================] - 2s 202us/step - loss: 1.2791 - accuracy: 0.6414 - val_loss: 1.7505 - val_accuracy: 0.4013\n",
      "Epoch 8/150\n",
      "11795/11795 [==============================] - 2s 206us/step - loss: 1.2464 - accuracy: 0.6544 - val_loss: 1.7039 - val_accuracy: 0.4327\n",
      "Epoch 9/150\n",
      "11795/11795 [==============================] - 2s 206us/step - loss: 1.2434 - accuracy: 0.6612 - val_loss: 1.7379 - val_accuracy: 0.3920\n",
      "Epoch 10/150\n",
      "11795/11795 [==============================] - 2s 207us/step - loss: 1.2136 - accuracy: 0.6721 - val_loss: 1.7397 - val_accuracy: 0.3898\n",
      "Epoch 11/150\n",
      "11795/11795 [==============================] - 2s 210us/step - loss: 1.1944 - accuracy: 0.6877 - val_loss: 1.7566 - val_accuracy: 0.3837\n",
      "Epoch 12/150\n",
      "11795/11795 [==============================] - 2s 204us/step - loss: 1.1778 - accuracy: 0.6968 - val_loss: 1.8728 - val_accuracy: 0.3321\n",
      "Epoch 13/150\n",
      "11795/11795 [==============================] - 2s 205us/step - loss: 1.1676 - accuracy: 0.7015 - val_loss: 1.8422 - val_accuracy: 0.3551\n",
      "Epoch 14/150\n",
      "11795/11795 [==============================] - 2s 202us/step - loss: 1.1501 - accuracy: 0.7161 - val_loss: 1.6780 - val_accuracy: 0.4563\n",
      "Epoch 15/150\n",
      "11795/11795 [==============================] - 2s 200us/step - loss: 1.1395 - accuracy: 0.7173 - val_loss: 1.7801 - val_accuracy: 0.3760\n",
      "Epoch 16/150\n",
      "11795/11795 [==============================] - 2s 195us/step - loss: 1.1261 - accuracy: 0.7281 - val_loss: 1.7958 - val_accuracy: 0.3837\n",
      "Epoch 17/150\n",
      "11795/11795 [==============================] - 2s 194us/step - loss: 1.1173 - accuracy: 0.7294 - val_loss: 1.7519 - val_accuracy: 0.3991\n",
      "Epoch 18/150\n",
      "11795/11795 [==============================] - 2s 200us/step - loss: 1.1079 - accuracy: 0.7347 - val_loss: 1.7423 - val_accuracy: 0.4239\n",
      "Epoch 19/150\n",
      "11795/11795 [==============================] - 2s 205us/step - loss: 1.1018 - accuracy: 0.7397 - val_loss: 1.7878 - val_accuracy: 0.3997\n",
      "Epoch 20/150\n",
      "11795/11795 [==============================] - 2s 203us/step - loss: 1.0845 - accuracy: 0.7463 - val_loss: 1.8279 - val_accuracy: 0.3859\n",
      "Epoch 21/150\n",
      "11795/11795 [==============================] - 2s 202us/step - loss: 1.0907 - accuracy: 0.7431 - val_loss: 1.7127 - val_accuracy: 0.4365\n",
      "Epoch 22/150\n",
      "11795/11795 [==============================] - 2s 201us/step - loss: 1.0786 - accuracy: 0.7515 - val_loss: 1.6922 - val_accuracy: 0.4590\n",
      "Epoch 23/150\n",
      "11795/11795 [==============================] - 2s 206us/step - loss: 1.0693 - accuracy: 0.7529 - val_loss: 1.6711 - val_accuracy: 0.4371\n",
      "Epoch 24/150\n",
      "11795/11795 [==============================] - 2s 206us/step - loss: 1.0669 - accuracy: 0.7529 - val_loss: 1.7291 - val_accuracy: 0.4360\n",
      "Epoch 25/150\n",
      "11795/11795 [==============================] - 2s 207us/step - loss: 1.0631 - accuracy: 0.7522 - val_loss: 1.6842 - val_accuracy: 0.4458\n",
      "Epoch 26/150\n",
      "11795/11795 [==============================] - 2s 197us/step - loss: 1.0519 - accuracy: 0.7591 - val_loss: 1.7370 - val_accuracy: 0.4228\n",
      "Epoch 27/150\n",
      "11795/11795 [==============================] - 2s 197us/step - loss: 1.0497 - accuracy: 0.7602 - val_loss: 1.8169 - val_accuracy: 0.4035\n",
      "Epoch 28/150\n",
      "11795/11795 [==============================] - 2s 198us/step - loss: 1.0461 - accuracy: 0.7632 - val_loss: 1.8020 - val_accuracy: 0.4090\n",
      "Epoch 29/150\n",
      "11795/11795 [==============================] - 2s 196us/step - loss: 1.0513 - accuracy: 0.7647 - val_loss: 1.6885 - val_accuracy: 0.4519\n",
      "Epoch 30/150\n",
      "11795/11795 [==============================] - 2s 203us/step - loss: 1.0496 - accuracy: 0.7623 - val_loss: 1.8173 - val_accuracy: 0.4145\n",
      "Epoch 31/150\n",
      "11795/11795 [==============================] - 2s 209us/step - loss: 1.0418 - accuracy: 0.7648 - val_loss: 1.7496 - val_accuracy: 0.4349\n",
      "Epoch 32/150\n",
      "11795/11795 [==============================] - 2s 197us/step - loss: 1.0328 - accuracy: 0.7712 - val_loss: 1.6934 - val_accuracy: 0.4415\n",
      "Epoch 33/150\n",
      "11795/11795 [==============================] - 2s 188us/step - loss: 1.0368 - accuracy: 0.7690 - val_loss: 1.7934 - val_accuracy: 0.4101\n",
      "Epoch 34/150\n",
      "11795/11795 [==============================] - 2s 186us/step - loss: 1.0333 - accuracy: 0.7676 - val_loss: 1.8195 - val_accuracy: 0.3920\n",
      "Epoch 35/150\n",
      "11795/11795 [==============================] - 2s 196us/step - loss: 1.0291 - accuracy: 0.7719 - val_loss: 1.6826 - val_accuracy: 0.4607\n",
      "Epoch 36/150\n",
      "11795/11795 [==============================] - 2s 197us/step - loss: 1.0339 - accuracy: 0.7712 - val_loss: 1.7203 - val_accuracy: 0.4437\n",
      "Epoch 37/150\n",
      "11795/11795 [==============================] - 2s 191us/step - loss: 1.0283 - accuracy: 0.7706 - val_loss: 1.7364 - val_accuracy: 0.4321\n",
      "Epoch 38/150\n",
      "11795/11795 [==============================] - 2s 198us/step - loss: 1.0209 - accuracy: 0.7778 - val_loss: 1.6973 - val_accuracy: 0.4568\n",
      "Epoch 39/150\n",
      "11795/11795 [==============================] - 2s 200us/step - loss: 1.0185 - accuracy: 0.7767 - val_loss: 1.6974 - val_accuracy: 0.4662\n",
      "Epoch 40/150\n",
      "11795/11795 [==============================] - 2s 204us/step - loss: 1.0160 - accuracy: 0.7795 - val_loss: 1.7249 - val_accuracy: 0.4585\n",
      "Epoch 41/150\n",
      "11795/11795 [==============================] - 2s 203us/step - loss: 1.0151 - accuracy: 0.7786 - val_loss: 1.7935 - val_accuracy: 0.4206\n",
      "Epoch 42/150\n",
      "11795/11795 [==============================] - 2s 203us/step - loss: 1.0141 - accuracy: 0.7762 - val_loss: 1.6686 - val_accuracy: 0.4843\n",
      "Epoch 43/150\n",
      "11795/11795 [==============================] - 2s 200us/step - loss: 1.0057 - accuracy: 0.7804 - val_loss: 1.8406 - val_accuracy: 0.4112\n",
      "Epoch 44/150\n",
      "11795/11795 [==============================] - 2s 193us/step - loss: 1.0146 - accuracy: 0.7758 - val_loss: 1.7258 - val_accuracy: 0.4546\n",
      "Epoch 45/150\n",
      "11795/11795 [==============================] - 2s 196us/step - loss: 1.0118 - accuracy: 0.7808 - val_loss: 1.7402 - val_accuracy: 0.4574\n",
      "Epoch 46/150\n",
      "11795/11795 [==============================] - 2s 204us/step - loss: 1.0046 - accuracy: 0.7800 - val_loss: 1.7515 - val_accuracy: 0.4480\n",
      "Epoch 47/150\n",
      "11795/11795 [==============================] - 2s 198us/step - loss: 1.0100 - accuracy: 0.7803 - val_loss: 1.7794 - val_accuracy: 0.4409\n",
      "Epoch 48/150\n",
      "11795/11795 [==============================] - 2s 189us/step - loss: 1.0134 - accuracy: 0.7770 - val_loss: 1.7168 - val_accuracy: 0.4497\n",
      "Epoch 49/150\n",
      "11795/11795 [==============================] - 2s 201us/step - loss: 1.0014 - accuracy: 0.7818 - val_loss: 1.7718 - val_accuracy: 0.4382\n",
      "Epoch 50/150\n",
      "11795/11795 [==============================] - 2s 190us/step - loss: 1.0017 - accuracy: 0.7836 - val_loss: 1.8009 - val_accuracy: 0.4327\n",
      "Epoch 51/150\n",
      "11795/11795 [==============================] - 2s 192us/step - loss: 1.0023 - accuracy: 0.7819 - val_loss: 1.7910 - val_accuracy: 0.4332\n",
      "Epoch 52/150\n",
      "11795/11795 [==============================] - 2s 203us/step - loss: 1.0008 - accuracy: 0.7849 - val_loss: 1.6989 - val_accuracy: 0.4469\n",
      "Epoch 53/150\n",
      "11795/11795 [==============================] - 2s 205us/step - loss: 0.9940 - accuracy: 0.7869 - val_loss: 1.7169 - val_accuracy: 0.4629\n",
      "Epoch 54/150\n",
      "11795/11795 [==============================] - 2s 201us/step - loss: 0.9938 - accuracy: 0.7878 - val_loss: 1.7046 - val_accuracy: 0.4651\n",
      "Epoch 55/150\n",
      "11795/11795 [==============================] - 2s 200us/step - loss: 0.9990 - accuracy: 0.7872 - val_loss: 1.7316 - val_accuracy: 0.4590\n",
      "Epoch 56/150\n",
      "11795/11795 [==============================] - 2s 200us/step - loss: 0.9924 - accuracy: 0.7875 - val_loss: 1.7370 - val_accuracy: 0.4426\n",
      "Epoch 57/150\n",
      "11795/11795 [==============================] - 2s 203us/step - loss: 0.9928 - accuracy: 0.7868 - val_loss: 1.7333 - val_accuracy: 0.4453\n",
      "Epoch 58/150\n",
      "11795/11795 [==============================] - 2s 203us/step - loss: 0.9952 - accuracy: 0.7908 - val_loss: 1.7413 - val_accuracy: 0.4437\n",
      "Epoch 59/150\n",
      "11795/11795 [==============================] - 2s 205us/step - loss: 1.0005 - accuracy: 0.7832 - val_loss: 1.7415 - val_accuracy: 0.4519\n",
      "Epoch 60/150\n",
      "11795/11795 [==============================] - 2s 202us/step - loss: 0.9939 - accuracy: 0.7844 - val_loss: 1.6558 - val_accuracy: 0.4843\n",
      "Epoch 61/150\n",
      "11795/11795 [==============================] - 2s 202us/step - loss: 0.9868 - accuracy: 0.7927 - val_loss: 1.6763 - val_accuracy: 0.4766\n",
      "Epoch 62/150\n",
      "11795/11795 [==============================] - 2s 200us/step - loss: 0.9908 - accuracy: 0.7906 - val_loss: 1.7658 - val_accuracy: 0.4365\n",
      "Epoch 63/150\n",
      "11795/11795 [==============================] - 2s 203us/step - loss: 0.9897 - accuracy: 0.7912 - val_loss: 1.7745 - val_accuracy: 0.4475\n",
      "Epoch 64/150\n",
      "11795/11795 [==============================] - 2s 202us/step - loss: 0.9842 - accuracy: 0.7880 - val_loss: 1.6946 - val_accuracy: 0.4634\n",
      "Epoch 65/150\n",
      "11795/11795 [==============================] - 2s 201us/step - loss: 0.9868 - accuracy: 0.7880 - val_loss: 1.7860 - val_accuracy: 0.4371\n",
      "Epoch 66/150\n",
      "11795/11795 [==============================] - 3s 218us/step - loss: 0.9908 - accuracy: 0.7897 - val_loss: 1.6841 - val_accuracy: 0.4706\n",
      "Epoch 67/150\n",
      "11795/11795 [==============================] - 2s 187us/step - loss: 0.9911 - accuracy: 0.7872 - val_loss: 1.6516 - val_accuracy: 0.4838\n",
      "Epoch 68/150\n",
      "11795/11795 [==============================] - 2s 187us/step - loss: 0.9853 - accuracy: 0.7889 - val_loss: 1.8282 - val_accuracy: 0.4288\n",
      "Epoch 69/150\n",
      "11795/11795 [==============================] - 2s 186us/step - loss: 0.9859 - accuracy: 0.7911 - val_loss: 1.8129 - val_accuracy: 0.4316\n",
      "Epoch 70/150\n",
      "11795/11795 [==============================] - 2s 206us/step - loss: 0.9867 - accuracy: 0.7887 - val_loss: 1.6404 - val_accuracy: 0.4915\n",
      "Epoch 71/150\n",
      "11795/11795 [==============================] - 2s 197us/step - loss: 0.9840 - accuracy: 0.7934 - val_loss: 1.7026 - val_accuracy: 0.4805\n",
      "Epoch 72/150\n",
      "11795/11795 [==============================] - 2s 195us/step - loss: 0.9741 - accuracy: 0.7947 - val_loss: 1.6975 - val_accuracy: 0.4772\n",
      "Epoch 73/150\n",
      "11795/11795 [==============================] - 2s 196us/step - loss: 0.9798 - accuracy: 0.7908 - val_loss: 1.6841 - val_accuracy: 0.4684\n",
      "Epoch 74/150\n",
      "11795/11795 [==============================] - 3s 212us/step - loss: 0.9906 - accuracy: 0.7917 - val_loss: 1.7613 - val_accuracy: 0.4480\n",
      "Epoch 75/150\n",
      "11795/11795 [==============================] - 2s 210us/step - loss: 0.9787 - accuracy: 0.7938 - val_loss: 1.6778 - val_accuracy: 0.4574\n",
      "Epoch 76/150\n",
      "11795/11795 [==============================] - 2s 211us/step - loss: 0.9810 - accuracy: 0.7930 - val_loss: 1.7931 - val_accuracy: 0.4288\n",
      "Epoch 77/150\n",
      "11795/11795 [==============================] - 2s 209us/step - loss: 0.9735 - accuracy: 0.7973 - val_loss: 1.6589 - val_accuracy: 0.4755\n",
      "Epoch 78/150\n",
      "11795/11795 [==============================] - 2s 209us/step - loss: 0.9785 - accuracy: 0.7966 - val_loss: 1.7547 - val_accuracy: 0.4568\n",
      "Epoch 79/150\n",
      "11795/11795 [==============================] - 2s 205us/step - loss: 0.9750 - accuracy: 0.7970 - val_loss: 1.6841 - val_accuracy: 0.4794\n",
      "Epoch 80/150\n",
      "11795/11795 [==============================] - 3s 214us/step - loss: 0.9901 - accuracy: 0.7888 - val_loss: 1.7068 - val_accuracy: 0.4574\n",
      "Epoch 81/150\n",
      "11795/11795 [==============================] - 2s 206us/step - loss: 0.9707 - accuracy: 0.7940 - val_loss: 1.7404 - val_accuracy: 0.4557\n",
      "Epoch 82/150\n",
      "11795/11795 [==============================] - 2s 210us/step - loss: 0.9754 - accuracy: 0.7956 - val_loss: 1.7710 - val_accuracy: 0.4541\n",
      "Epoch 83/150\n",
      "11795/11795 [==============================] - 3s 212us/step - loss: 0.9650 - accuracy: 0.7982 - val_loss: 1.6664 - val_accuracy: 0.4948\n",
      "Epoch 84/150\n",
      "11795/11795 [==============================] - 2s 212us/step - loss: 0.9684 - accuracy: 0.7985 - val_loss: 1.6944 - val_accuracy: 0.4684\n",
      "Epoch 85/150\n",
      "11795/11795 [==============================] - 2s 212us/step - loss: 0.9768 - accuracy: 0.7950 - val_loss: 1.7387 - val_accuracy: 0.4601\n",
      "Epoch 86/150\n",
      "11795/11795 [==============================] - 3s 215us/step - loss: 0.9642 - accuracy: 0.8010 - val_loss: 1.7434 - val_accuracy: 0.4557\n",
      "Epoch 87/150\n",
      "11795/11795 [==============================] - 3s 212us/step - loss: 0.9738 - accuracy: 0.7953 - val_loss: 1.7584 - val_accuracy: 0.4535\n",
      "Epoch 88/150\n",
      "11795/11795 [==============================] - 3s 213us/step - loss: 0.9678 - accuracy: 0.7992 - val_loss: 1.7749 - val_accuracy: 0.4321\n",
      "Epoch 89/150\n",
      "11795/11795 [==============================] - 3s 214us/step - loss: 0.9713 - accuracy: 0.7953 - val_loss: 1.7298 - val_accuracy: 0.4513\n",
      "Epoch 90/150\n",
      "11795/11795 [==============================] - 3s 213us/step - loss: 0.9625 - accuracy: 0.8025 - val_loss: 1.8065 - val_accuracy: 0.4508\n",
      "Epoch 91/150\n",
      "11795/11795 [==============================] - 2s 211us/step - loss: 0.9628 - accuracy: 0.8029 - val_loss: 1.7204 - val_accuracy: 0.4656\n",
      "Epoch 92/150\n",
      "11795/11795 [==============================] - 2s 210us/step - loss: 0.9784 - accuracy: 0.7952 - val_loss: 1.7850 - val_accuracy: 0.4415\n",
      "Epoch 93/150\n",
      "11795/11795 [==============================] - 2s 211us/step - loss: 0.9692 - accuracy: 0.7963 - val_loss: 1.7299 - val_accuracy: 0.4656\n",
      "Epoch 94/150\n",
      "11795/11795 [==============================] - 2s 211us/step - loss: 0.9660 - accuracy: 0.8008 - val_loss: 1.7561 - val_accuracy: 0.4596\n",
      "Epoch 95/150\n",
      "11795/11795 [==============================] - 3s 214us/step - loss: 0.9641 - accuracy: 0.8009 - val_loss: 1.6643 - val_accuracy: 0.4920\n",
      "Epoch 96/150\n",
      "11795/11795 [==============================] - 3s 215us/step - loss: 0.9612 - accuracy: 0.8013 - val_loss: 1.7541 - val_accuracy: 0.4316\n",
      "Epoch 97/150\n",
      "11795/11795 [==============================] - 2s 211us/step - loss: 0.9761 - accuracy: 0.7975 - val_loss: 1.7775 - val_accuracy: 0.4453\n",
      "Epoch 98/150\n",
      "11795/11795 [==============================] - 2s 209us/step - loss: 0.9704 - accuracy: 0.8008 - val_loss: 1.7656 - val_accuracy: 0.4524\n",
      "Epoch 99/150\n",
      "11795/11795 [==============================] - 2s 212us/step - loss: 0.9570 - accuracy: 0.7997 - val_loss: 1.6659 - val_accuracy: 0.5008\n",
      "Epoch 100/150\n",
      "11795/11795 [==============================] - 3s 217us/step - loss: 0.9593 - accuracy: 0.8055 - val_loss: 1.7440 - val_accuracy: 0.4546\n",
      "Epoch 101/150\n",
      "11795/11795 [==============================] - 3s 213us/step - loss: 0.9635 - accuracy: 0.8029 - val_loss: 1.7820 - val_accuracy: 0.4563\n",
      "Epoch 102/150\n",
      "11795/11795 [==============================] - 3s 217us/step - loss: 0.9594 - accuracy: 0.8039 - val_loss: 1.7846 - val_accuracy: 0.4393\n",
      "Epoch 103/150\n",
      "11795/11795 [==============================] - 3s 217us/step - loss: 0.9615 - accuracy: 0.8028 - val_loss: 1.7591 - val_accuracy: 0.4590\n",
      "Epoch 104/150\n",
      "11795/11795 [==============================] - 3s 214us/step - loss: 0.9619 - accuracy: 0.8005 - val_loss: 1.7412 - val_accuracy: 0.4568\n",
      "Epoch 105/150\n",
      "11795/11795 [==============================] - 3s 212us/step - loss: 0.9529 - accuracy: 0.8061 - val_loss: 1.7647 - val_accuracy: 0.4393\n",
      "Epoch 106/150\n",
      "11795/11795 [==============================] - 3s 214us/step - loss: 0.9441 - accuracy: 0.8088 - val_loss: 1.7497 - val_accuracy: 0.4706\n",
      "Epoch 107/150\n",
      "11795/11795 [==============================] - 3s 216us/step - loss: 0.9565 - accuracy: 0.8074 - val_loss: 1.6977 - val_accuracy: 0.4739\n",
      "Epoch 108/150\n",
      "11795/11795 [==============================] - 3s 214us/step - loss: 0.9541 - accuracy: 0.8096 - val_loss: 1.7229 - val_accuracy: 0.4634\n",
      "Epoch 109/150\n",
      "11795/11795 [==============================] - 3s 212us/step - loss: 0.9480 - accuracy: 0.8053 - val_loss: 1.7313 - val_accuracy: 0.4579\n",
      "Epoch 110/150\n",
      "11795/11795 [==============================] - 2s 202us/step - loss: 0.9718 - accuracy: 0.8042 - val_loss: 1.7122 - val_accuracy: 0.4695\n",
      "Epoch 111/150\n",
      "11795/11795 [==============================] - 2s 202us/step - loss: 0.9430 - accuracy: 0.8086 - val_loss: 1.7870 - val_accuracy: 0.4415\n",
      "Epoch 112/150\n",
      "11795/11795 [==============================] - 2s 197us/step - loss: 0.9558 - accuracy: 0.8052 - val_loss: 1.7123 - val_accuracy: 0.4805\n",
      "Epoch 113/150\n",
      "11795/11795 [==============================] - 2s 192us/step - loss: 0.9483 - accuracy: 0.8095 - val_loss: 1.8414 - val_accuracy: 0.4431\n",
      "Epoch 114/150\n",
      "11795/11795 [==============================] - 2s 189us/step - loss: 0.9446 - accuracy: 0.8068 - val_loss: 1.9217 - val_accuracy: 0.4008\n",
      "Epoch 115/150\n",
      "11795/11795 [==============================] - 2s 196us/step - loss: 0.9541 - accuracy: 0.8021 - val_loss: 1.7002 - val_accuracy: 0.4728\n",
      "Epoch 116/150\n",
      "11795/11795 [==============================] - 2s 207us/step - loss: 0.9468 - accuracy: 0.8111 - val_loss: 1.7674 - val_accuracy: 0.4590\n",
      "Epoch 117/150\n",
      "11795/11795 [==============================] - 2s 202us/step - loss: 0.9655 - accuracy: 0.8003 - val_loss: 1.6989 - val_accuracy: 0.4717\n",
      "Epoch 118/150\n",
      "11795/11795 [==============================] - 2s 200us/step - loss: 0.9452 - accuracy: 0.8092 - val_loss: 1.7368 - val_accuracy: 0.4607\n",
      "Epoch 119/150\n",
      "11795/11795 [==============================] - 2s 202us/step - loss: 0.9413 - accuracy: 0.8078 - val_loss: 1.8136 - val_accuracy: 0.4447\n",
      "Epoch 120/150\n",
      "11795/11795 [==============================] - 2s 199us/step - loss: 0.9588 - accuracy: 0.8042 - val_loss: 1.7489 - val_accuracy: 0.4618\n",
      "Epoch 121/150\n",
      "11795/11795 [==============================] - 2s 199us/step - loss: 0.9566 - accuracy: 0.8056 - val_loss: 1.7615 - val_accuracy: 0.4557\n",
      "Epoch 122/150\n",
      "11795/11795 [==============================] - 2s 201us/step - loss: 0.9554 - accuracy: 0.8053 - val_loss: 1.7202 - val_accuracy: 0.4733\n",
      "Epoch 123/150\n",
      "11795/11795 [==============================] - 2s 201us/step - loss: 0.9479 - accuracy: 0.8095 - val_loss: 1.6853 - val_accuracy: 0.4893\n",
      "Epoch 124/150\n",
      "11795/11795 [==============================] - 2s 204us/step - loss: 0.9336 - accuracy: 0.8140 - val_loss: 1.7556 - val_accuracy: 0.4590\n",
      "Epoch 125/150\n",
      "11795/11795 [==============================] - 2s 199us/step - loss: 0.9557 - accuracy: 0.8086 - val_loss: 1.7579 - val_accuracy: 0.4596\n",
      "Epoch 126/150\n",
      "11795/11795 [==============================] - 2s 196us/step - loss: 0.9466 - accuracy: 0.8104 - val_loss: 1.7202 - val_accuracy: 0.4750\n",
      "Epoch 127/150\n",
      "11795/11795 [==============================] - 2s 205us/step - loss: 0.9367 - accuracy: 0.8129 - val_loss: 1.7429 - val_accuracy: 0.4557\n",
      "Epoch 128/150\n",
      "11795/11795 [==============================] - 2s 201us/step - loss: 0.9485 - accuracy: 0.8088 - val_loss: 1.7682 - val_accuracy: 0.4662\n",
      "Epoch 129/150\n",
      "11795/11795 [==============================] - 2s 201us/step - loss: 0.9374 - accuracy: 0.8138 - val_loss: 1.8004 - val_accuracy: 0.4695\n",
      "Epoch 130/150\n",
      "11795/11795 [==============================] - 2s 206us/step - loss: 0.9342 - accuracy: 0.8133 - val_loss: 1.7322 - val_accuracy: 0.4596\n",
      "Epoch 131/150\n",
      "11795/11795 [==============================] - 2s 193us/step - loss: 0.9366 - accuracy: 0.8152 - val_loss: 1.7536 - val_accuracy: 0.4552\n",
      "Epoch 132/150\n",
      "11795/11795 [==============================] - 2s 195us/step - loss: 0.9321 - accuracy: 0.8139 - val_loss: 1.6762 - val_accuracy: 0.4722\n",
      "Epoch 133/150\n",
      "11795/11795 [==============================] - 2s 189us/step - loss: 0.9459 - accuracy: 0.8086 - val_loss: 1.8582 - val_accuracy: 0.4288\n",
      "Epoch 134/150\n",
      "11795/11795 [==============================] - 3s 213us/step - loss: 0.9267 - accuracy: 0.8156 - val_loss: 1.7182 - val_accuracy: 0.4623\n",
      "Epoch 135/150\n",
      "11795/11795 [==============================] - 3s 223us/step - loss: 0.9393 - accuracy: 0.8104 - val_loss: 1.7375 - val_accuracy: 0.4535\n",
      "Epoch 136/150\n",
      "11795/11795 [==============================] - 3s 220us/step - loss: 0.9413 - accuracy: 0.8112 - val_loss: 1.7631 - val_accuracy: 0.4607\n",
      "Epoch 137/150\n",
      "11795/11795 [==============================] - 3s 215us/step - loss: 0.9366 - accuracy: 0.8110 - val_loss: 1.7347 - val_accuracy: 0.4684\n",
      "Epoch 138/150\n",
      "11795/11795 [==============================] - 2s 205us/step - loss: 0.9401 - accuracy: 0.8128 - val_loss: 1.7333 - val_accuracy: 0.4788\n",
      "Epoch 139/150\n",
      "11795/11795 [==============================] - 2s 194us/step - loss: 0.9442 - accuracy: 0.8135 - val_loss: 1.8226 - val_accuracy: 0.4382\n",
      "Epoch 140/150\n",
      "11795/11795 [==============================] - 2s 201us/step - loss: 0.9353 - accuracy: 0.8153 - val_loss: 1.7182 - val_accuracy: 0.4755\n",
      "Epoch 141/150\n",
      "11795/11795 [==============================] - 2s 199us/step - loss: 0.9453 - accuracy: 0.8136 - val_loss: 1.8370 - val_accuracy: 0.4195\n",
      "Epoch 142/150\n",
      "11795/11795 [==============================] - 2s 202us/step - loss: 0.9284 - accuracy: 0.8217 - val_loss: 1.7203 - val_accuracy: 0.4783\n",
      "Epoch 143/150\n",
      "11795/11795 [==============================] - 2s 199us/step - loss: 0.9300 - accuracy: 0.8176 - val_loss: 1.7131 - val_accuracy: 0.4816\n",
      "Epoch 144/150\n",
      "11795/11795 [==============================] - 2s 199us/step - loss: 0.9337 - accuracy: 0.8160 - val_loss: 1.8159 - val_accuracy: 0.4431\n",
      "Epoch 145/150\n",
      "11795/11795 [==============================] - 2s 197us/step - loss: 0.9444 - accuracy: 0.8121 - val_loss: 1.7223 - val_accuracy: 0.4821\n",
      "Epoch 146/150\n",
      "11795/11795 [==============================] - 2s 200us/step - loss: 0.9282 - accuracy: 0.8200 - val_loss: 1.8405 - val_accuracy: 0.4409\n",
      "Epoch 147/150\n",
      "11795/11795 [==============================] - 2s 195us/step - loss: 0.9442 - accuracy: 0.8126 - val_loss: 1.6431 - val_accuracy: 0.5151\n",
      "Epoch 148/150\n",
      "11795/11795 [==============================] - 2s 200us/step - loss: 0.9307 - accuracy: 0.8192 - val_loss: 1.7183 - val_accuracy: 0.4827\n",
      "Epoch 149/150\n",
      "11795/11795 [==============================] - 2s 192us/step - loss: 0.9265 - accuracy: 0.8206 - val_loss: 1.9803 - val_accuracy: 0.3914\n",
      "Epoch 150/150\n",
      "11795/11795 [==============================] - 2s 198us/step - loss: 0.9356 - accuracy: 0.8153 - val_loss: 1.7783 - val_accuracy: 0.4623\n"
     ]
    }
   ],
   "source": [
    "history = reg_model.fit(X_train, y_train, epochs = 150,\n",
    "                        validation_data=(X_valid, y_valid),\n",
    "                        batch_size = 10, verbose = 1)"
   ]
  },
  {
   "cell_type": "markdown",
   "metadata": {},
   "source": [
    "<div dir=\"rtl\">\n",
    "    نمودار زیر نشان دهنده تغییرات accuracy به ازاء هر epoch است.\n",
    "</div>"
   ]
  },
  {
   "cell_type": "code",
   "execution_count": 10,
   "metadata": {
    "scrolled": true
   },
   "outputs": [
    {
     "data": {
      "image/png": "[encoded data removed]",
      "text/plain": [
       "<Figure size 1296x720 with 1 Axes>"
      ]
     },
     "metadata": {
      "needs_background": "light"
     },
     "output_type": "display_data"
    }
   ],
   "source": [
    "import matplotlib.pyplot as plt\n",
    "plt.figure(figsize=(18, 10))\n",
    "plt.plot(history.history['accuracy'])\n",
    "plt.plot(history.history['val_accuracy'])\n",
    "plt.title('model_accuracy')\n",
    "plt.ylabel('accuracy')\n",
    "plt.xlabel('epoch')\n",
    "plt.legend(['train', 'test'], loc='best')\n",
    "plt.show()\n",
    "# reg_model.summary()"
   ]
  },
  {
   "cell_type": "markdown",
   "metadata": {},
   "source": [
    "<div dir=\"rtl\">\n",
    "    عملکرد شبکه را به ازاء X_test بررسی می کنیم.\n",
    "</div>"
   ]
  },
  {
   "cell_type": "code",
   "execution_count": 11,
   "metadata": {},
   "outputs": [
    {
     "name": "stdout",
     "output_type": "stream",
     "text": [
      "780/780 [==============================] - 0s 54us/step\n"
     ]
    },
    {
     "data": {
      "text/plain": [
       "[2.7106945746984237, 0.485897421836853]"
      ]
     },
     "execution_count": 11,
     "metadata": {},
     "output_type": "execute_result"
    }
   ],
   "source": [
    "reg_model.evaluate(X_test, y_test)"
   ]
  },
  {
   "cell_type": "markdown",
   "metadata": {},
   "source": [
    "<div dir=\"rtl\">\n",
    "    با توجه به این که داده ها imbalanced هستند مقدار precision و recall و f1score را برای هر کلاس روی train set محاسبه می کنیم.\n",
    "</div>"
   ]
  },
  {
   "cell_type": "code",
   "execution_count": 12,
   "metadata": {},
   "outputs": [
    {
     "name": "stdout",
     "output_type": "stream",
     "text": [
      "[[  0   1   1   0   0   0   0]\n",
      " [  0   9  10   6   2   1   0]\n",
      " [  0  35 116  66  15   6   0]\n",
      " [  1  24  53 160  98  18   1]\n",
      " [  1   0   4  23  84  22   1]\n",
      " [  0   0   0   4   8  10   0]\n",
      " [  0   0   0   0   0   0   0]]\n"
     ]
    },
    {
     "data": {
      "text/plain": [
       "(array([0.        , 0.13043478, 0.63043478, 0.61776062, 0.4057971 ,\n",
       "        0.1754386 , 0.        ]),\n",
       " array([0.        , 0.32142857, 0.48739496, 0.45070423, 0.62222222,\n",
       "        0.45454545, 1.        ]),\n",
       " array([0.        , 0.18556701, 0.54976303, 0.52117264, 0.49122807,\n",
       "        0.25316456, 0.        ]),\n",
       " array([  2,  28, 238, 355, 135,  22,   0], dtype=int64))"
      ]
     },
     "execution_count": 12,
     "metadata": {},
     "output_type": "execute_result"
    }
   ],
   "source": [
    "#prediction of y_test\n",
    "Y_pred = reg_model.predict(X_test)\n",
    "#converting one-hot vector to lable\n",
    "y_pred = np.argmax(Y_pred, axis=1)\n",
    "y_true = np.argmax(y_test, axis=1)\n",
    "\n",
    "#calculateing confusion matrix\n",
    "print(confusion_matrix(y_true, y_pred))\n",
    "#calculateing precision recall fscore\n",
    "#firs array = precision\n",
    "#second array = recall\n",
    "#third array = fscore\n",
    "#forth array = number of available sets in each class\n",
    "precision_recall_fscore_support(y_true, y_pred, average=None, zero_division=1)"
   ]
  },
  {
   "cell_type": "markdown",
   "metadata": {},
   "source": [
    "<div dir=\"rtl\">\n",
    "    با توجه به بررسی های انجام شده روی مجموعه داده می توان گفت که پیش بینی برچسب داده های مربوط به کلاس 6 تقریبا غیر ممکن است چرا که تنها حدود 40 درصد داده ی مربوطه دارای ویژگی های منحصر به کلاس 6 هستند. این امر سبب شده است که شبکه نه تنها در تشخیص کلاس 6 بلکه در تشخیص سایر کلاس ها نیز دچار مشکل شود. \n",
    "</div>"
   ]
  },
  {
   "cell_type": "markdown",
   "metadata": {},
   "source": [
    "<div dir=\"rtl\">\n",
    "    همچنین نظر بر این که امتیاز اختصاص داده شده به هر نمونه بر اساس حس چشایی بوده و نه بر اساس داده های شیمیایی جمع آوری شده، مطابق مسئله marry's room می توان گفت پیش بینی دقیق امتیاز نمونه ها صرفاً با محاسبات ریاضی مقدور نیست. \n",
    "</div>"
   ]
  },
  {
   "cell_type": "markdown",
   "metadata": {},
   "source": [
    "<div dir=\"rtl\">\n",
    "در نهایت می توان گفت اگر از یک واحد خطا صرف نظر کنیم میزان دقت زیر را خواهیم داشت:\n",
    "</div>"
   ]
  },
  {
   "cell_type": "code",
   "execution_count": 13,
   "metadata": {
    "scrolled": true
   },
   "outputs": [
    {
     "name": "stdout",
     "output_type": "stream",
     "text": [
      "accuracy for tolerance=1:  89.1025641025641\n"
     ]
    }
   ],
   "source": [
    "sum = 0.0;\n",
    "for i in range(len(y_true)):\n",
    "    if y_pred[i]>=y_true[i]-1 and y_pred[i]<=y_true[i]+1:\n",
    "        sum = sum+1\n",
    "print('accuracy for tolerance=1: ', sum*100/len(y_true))"
   ]
  },
  {
   "cell_type": "markdown",
   "metadata": {},
   "source": [
    "resources:  \n",
    "https://keras.io/  \n",
    "          https://scikit-learn.org  \n",
    "           some articles on https://scholar.google.com/"
   ]
  },
  {
   "cell_type": "markdown",
   "metadata": {},
   "source": [
    "# <div dir=\"rtl\">2.torch:</div>\n",
    "<div dir=\"rtl\">از همان داده های قبلی استفاده میکنیم.</div>"
   ]
  },
  {
   "cell_type": "code",
   "execution_count": 12,
   "metadata": {},
   "outputs": [],
   "source": [
    "Xtrain=X_train.astype('float32')\n",
    "# Ytrain=np.argmax(y_train, axis=1)\n",
    "Ytrain=y_train.astype('float32')\n",
    "\n",
    "Xtest=X_test.astype('float32')\n",
    "Ytest=y_test.astype('float32')\n",
    "# print(Xtrain)\n",
    "# print(np.argmax(Ytrain, axis=1))"
   ]
  },
  {
   "cell_type": "markdown",
   "metadata": {},
   "source": [
    "<div dir=\"rtl\">مثل مدلی که در keras استفاده شده بود همان مدل را دوباره پیاده سازی میکنیم با این تفاوت که از تابع هزینه MSE استفاده میشود</div>"
   ]
  },
  {
   "cell_type": "code",
   "execution_count": 14,
   "metadata": {},
   "outputs": [
    {
     "name": "stdout",
     "output_type": "stream",
     "text": [
      "99 Loss: 0.08685053139925003 Accuracy: 0.5146248410343366\n",
      "199 Loss: 0.07169666886329651 Accuracy: 0.6384908859686308\n",
      "299 Loss: 0.061048153787851334 Accuracy: 0.7383637134378974\n",
      "399 Loss: 0.05527322366833687 Accuracy: 0.7788045782111064\n",
      "499 Loss: 0.051565006375312805 Accuracy: 0.7790589232725731\n"
     ]
    }
   ],
   "source": [
    "class model3():\n",
    "    def __init__(self,NumberOfSample,InputSize,NumberOfNeorun,OutputSize,loss_fn,Epoch,learning_rate,optimizer):\n",
    "        self.N=NumberOfSample\n",
    "        self.D_in=InputSize\n",
    "        self.H=NumberOfNeorun\n",
    "        self.D_out=OutputSize\n",
    "        self.Epoch=Epoch\n",
    "        self.loss_fn=loss_fn\n",
    "        self.learning_rate=learning_rate\n",
    "        self.correct=[]\n",
    "        self.losses=[]\n",
    "        self.model = torch.nn.Sequential(\n",
    "                torch.nn.Linear(self.D_in, 20),\n",
    "                torch.nn.ReLU(),\n",
    "                torch.nn.Linear(20, self.H),\n",
    "                torch.nn.ReLU(),\n",
    "                torch.nn.Linear(self.H, self.H),\n",
    "                torch.nn.ReLU(),\n",
    "    \n",
    "                torch.nn.Linear(self.H, self.D_out),\n",
    "                    torch.nn.ReLU(),\n",
    "                #     torch.nn.Linear(H, 10),\n",
    "    \n",
    "    \n",
    "    \n",
    "    \n",
    "                torch.nn.Softmax(dim=1),\n",
    "    \n",
    "    \n",
    "                )\n",
    "        self.optimizer=optimizer(self.model.parameters(),lr=self.learning_rate)\n",
    "        \n",
    "    def run(self,X,Y):\n",
    "        \n",
    "        \n",
    "        self.correct=[]\n",
    "        self.losses=[]\n",
    "        x = torch.from_numpy(X)\n",
    "        y = torch.from_numpy(Y)\n",
    "    \n",
    "        for t in range(self.Epoch):\n",
    "\n",
    "            # Forward pass: compute predicted y by passing x to the model. Module objects\n",
    "            # override the __call__ operator so you can call them like functions. When\n",
    "            # doing so you pass a Tensor of input data to the Module and it produces\n",
    "            # a Tensor of output data.\n",
    "        #     print(x[1])\n",
    "            y_pred = self.model(x)\n",
    "        #     print(y)\n",
    "        #     print(y_pred)\n",
    "            # Compute and print loss. We pass Tensors containing the predicted and true\n",
    "            # values of y, and the loss function returns a Tensor containing the\n",
    "            # loss.\n",
    "            loss = self.loss_fn(y_pred, y)\n",
    "        #     print(y_pred)\n",
    "            self.losses.append(loss)\n",
    "\n",
    "\n",
    "            # Zero the gradients before running the backward pass.\n",
    "            self.optimizer.zero_grad()\n",
    "\n",
    "            # Backward pass: compute gradient of the loss with respect to all the learnable\n",
    "            # parameters of the model. Internally, the parameters of each Module are stored\n",
    "            # in Tensors with requires_grad=True, so this call will compute gradients for\n",
    "            # all learnable parameters in the model.\n",
    "            loss.backward()\n",
    "\n",
    "            # Update the weights using gradient descent. Each parameter is a Tensor, so\n",
    "            # we can access its gradients like we did before.\n",
    "            self.optimizer.step()\n",
    "            self.correct.append((np.argmax(y_pred.detach().numpy(),axis=1)==(np.argmax(Y,axis=1))).sum()/Y[:,0].size)\n",
    "            if t % 100 == 99:\n",
    "                print(t,'Loss:' ,loss.item(),'Accuracy:' ,self.correct[-1])\n",
    "\n",
    "\n",
    "        return self.model,self.correct\n",
    "    \n",
    "    \n",
    "    def predict(self,x):\n",
    "        return np.argmax(self.model(torch.from_numpy(x)).detach().numpy(),axis=1)\n",
    "    \n",
    "    def accuracy(self,y_pred,y):\n",
    "        return (y_pred==y.T).sum()/y.size\n",
    "        \n",
    "\n",
    "\n",
    "                \n",
    "ss = model3(1000, 12, 100, 7,torch.nn.MSELoss(),500,1e-3,torch.optim.Adam)\n",
    "\n",
    "predict2,correct2=ss.run(Xtrain,Ytrain)\n",
    "\n",
    "\n"
   ]
  },
  {
   "cell_type": "markdown",
   "metadata": {},
   "source": [
    "<div dir=\"rtl\">سرعت کتابخانه torch بالاتر از keras هست، در نتیجه از تعداد epoch بیشتر استفاده میکنیم(۵۰۰)</div>\n",
    "<div dir=\"rtl\">به دقت 76 درصد میرسیم</div>"
   ]
  },
  {
   "cell_type": "code",
   "execution_count": 15,
   "metadata": {},
   "outputs": [
    {
     "name": "stdout",
     "output_type": "stream",
     "text": [
      "0.7790589232725731\n"
     ]
    },
    {
     "data": {
      "image/png": "[encoded data removed]",
      "text/plain": [
       "<Figure size 1152x576 with 1 Axes>"
      ]
     },
     "metadata": {
      "needs_background": "light"
     },
     "output_type": "display_data"
    }
   ],
   "source": [
    "fig, axes = plt.subplots(figsize=(16,8),nrows=1,ncols=1)\n",
    "axes.plot(correct2,'r-')\n",
    "\n",
    "print(correct2[-1])"
   ]
  },
  {
   "cell_type": "code",
   "execution_count": 18,
   "metadata": {
    "scrolled": true
   },
   "outputs": [
    {
     "name": "stdout",
     "output_type": "stream",
     "text": [
      "[3 1 0 ... 1 1 1]\n",
      "0.8122085629504027\n",
      "0.48205128205128206\n"
     ]
    },
    {
     "data": {
      "image/png": "[encoded data removed]",
      "text/plain": [
       "<Figure size 864x288 with 2 Axes>"
      ]
     },
     "metadata": {
      "needs_background": "light"
     },
     "output_type": "display_data"
    }
   ],
   "source": [
    "fig, axes = plt.subplots(figsize=(12,4),nrows=1,ncols=2)\n",
    "y_pred_Train=ss.predict(Xtrain)\n",
    "yshow=np.argmax(Ytrain,axis=1)\n",
    "print(y_pred_Train)\n",
    "axes[0].scatter(range(yshow.size),yshow)\n",
    "axes[0].plot(range(y_pred_Train.size),y_pred_Train,\"ro\")\n",
    "axes[0].set_title('Train')\n",
    "axes[0].set_xlabel('#Sample')\n",
    "axes[0].set_ylabel('Classes')\n",
    "print(ss.accuracy(y_pred_Train,yshow))\n",
    "\n",
    "\n",
    "y_pred_Test=ss.predict(Xtest)\n",
    "yshowtest=np.argmax(Ytest,axis=1)\n",
    "# print(y_pred_Train)\n",
    "axes[1].scatter(range(yshowtest.size),yshowtest)\n",
    "axes[1].plot(range(y_pred_Test.size),y_pred_Test,\"ro\")\n",
    "axes[1].set_title('Test')\n",
    "axes[1].set_xlabel('#Sample')\n",
    "axes[1].set_ylabel('Classes')\n",
    "print(ss.accuracy(y_pred_Test,yshowtest))\n",
    "\n"
   ]
  },
  {
   "cell_type": "markdown",
   "metadata": {},
   "source": [
    "<div dir=\"rtl\">\n",
    "در نهایت می توان گفت اگر از یک واحد خطا صرف نظر کنیم میزان دقت زیر را خواهیم داشت:\n",
    "</div>"
   ]
  },
  {
   "cell_type": "code",
   "execution_count": 19,
   "metadata": {},
   "outputs": [
    {
     "name": "stdout",
     "output_type": "stream",
     "text": [
      "accuracy for tolerance=1:  90.25641025641026\n"
     ]
    }
   ],
   "source": [
    "\n",
    "sum = 0.0;\n",
    "for i in range(len(yshowtest)):\n",
    "    if y_pred_Test[i]>=yshowtest[i]-1 and y_pred_Test[i]<=yshowtest[i]+1:\n",
    "        sum = sum+1\n",
    "print('accuracy for tolerance=1: ', sum*100/len(yshowtest))"
   ]
  }
 ],
 "metadata": {
  "kernelspec": {
   "display_name": "Python 3",
   "language": "python",
   "name": "python3"
  },
  "language_info": {
   "codemirror_mode": {
    "name": "ipython",
    "version": 3
   },
   "file_extension": ".py",
   "mimetype": "text/x-python",
   "name": "python",
   "nbconvert_exporter": "python",
   "pygments_lexer": "ipython3",
   "version": "3.6.10"
  }
 },
 "nbformat": 4,
 "nbformat_minor": 4
}
